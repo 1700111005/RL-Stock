{
 "cells": [
  {
   "cell_type": "code",
   "execution_count": 1,
   "metadata": {},
   "outputs": [],
   "source": [
    "import pandas as pd\n",
    "import numpy as np\n",
    "import matplotlib.pyplot as plt"
   ]
  },
  {
   "cell_type": "code",
   "execution_count": 3,
   "metadata": {},
   "outputs": [
    {
     "name": "stdout",
     "output_type": "stream",
     "text": [
      "<class 'pandas.core.frame.DataFrame'>\n",
      "RangeIndex: 1942 entries, 0 to 1941\n",
      "Data columns (total 7 columns):\n",
      "date      1942 non-null object\n",
      "close     1942 non-null object\n",
      "open      1942 non-null object\n",
      "high      1942 non-null object\n",
      "low       1942 non-null object\n",
      "volume    1942 non-null object\n",
      "change    1942 non-null object\n",
      "dtypes: object(7)\n",
      "memory usage: 106.3+ KB\n"
     ]
    }
   ],
   "source": [
    "df_stock = pd.read_csv('./data/600519.csv')\n",
    "df_stock = df_stock.iloc[::-1].reset_index(drop=True)\n",
    "df_stock.info()"
   ]
  },
  {
   "cell_type": "code",
   "execution_count": 4,
   "metadata": {},
   "outputs": [
    {
     "data": {
      "text/html": [
       "<div>\n",
       "<style scoped>\n",
       "    .dataframe tbody tr th:only-of-type {\n",
       "        vertical-align: middle;\n",
       "    }\n",
       "\n",
       "    .dataframe tbody tr th {\n",
       "        vertical-align: top;\n",
       "    }\n",
       "\n",
       "    .dataframe thead th {\n",
       "        text-align: right;\n",
       "    }\n",
       "</style>\n",
       "<table border=\"1\" class=\"dataframe\">\n",
       "  <thead>\n",
       "    <tr style=\"text-align: right;\">\n",
       "      <th></th>\n",
       "      <th>date</th>\n",
       "      <th>close</th>\n",
       "      <th>open</th>\n",
       "      <th>high</th>\n",
       "      <th>low</th>\n",
       "      <th>volume</th>\n",
       "      <th>change</th>\n",
       "    </tr>\n",
       "  </thead>\n",
       "  <tbody>\n",
       "    <tr>\n",
       "      <th>0</th>\n",
       "      <td>2012年3月21日</td>\n",
       "      <td>205.1</td>\n",
       "      <td>207.8</td>\n",
       "      <td>209</td>\n",
       "      <td>203.86</td>\n",
       "      <td>2.95M</td>\n",
       "      <td>-1.28%</td>\n",
       "    </tr>\n",
       "    <tr>\n",
       "      <th>1</th>\n",
       "      <td>2012年3月22日</td>\n",
       "      <td>205.35</td>\n",
       "      <td>204.32</td>\n",
       "      <td>206.9</td>\n",
       "      <td>204.29</td>\n",
       "      <td>833.19K</td>\n",
       "      <td>0.12%</td>\n",
       "    </tr>\n",
       "    <tr>\n",
       "      <th>2</th>\n",
       "      <td>2012年3月23日</td>\n",
       "      <td>212.02</td>\n",
       "      <td>207.5</td>\n",
       "      <td>212.55</td>\n",
       "      <td>207.5</td>\n",
       "      <td>5.49M</td>\n",
       "      <td>3.25%</td>\n",
       "    </tr>\n",
       "    <tr>\n",
       "      <th>3</th>\n",
       "      <td>2012年3月26日</td>\n",
       "      <td>215.2</td>\n",
       "      <td>211.12</td>\n",
       "      <td>215.9</td>\n",
       "      <td>211.1</td>\n",
       "      <td>3.77M</td>\n",
       "      <td>1.50%</td>\n",
       "    </tr>\n",
       "    <tr>\n",
       "      <th>4</th>\n",
       "      <td>2012年3月27日</td>\n",
       "      <td>201.5</td>\n",
       "      <td>210.22</td>\n",
       "      <td>210.99</td>\n",
       "      <td>201</td>\n",
       "      <td>7.91M</td>\n",
       "      <td>-6.37%</td>\n",
       "    </tr>\n",
       "  </tbody>\n",
       "</table>\n",
       "</div>"
      ],
      "text/plain": [
       "         date   close    open    high     low   volume  change\n",
       "0  2012年3月21日   205.1   207.8     209  203.86    2.95M  -1.28%\n",
       "1  2012年3月22日  205.35  204.32   206.9  204.29  833.19K   0.12%\n",
       "2  2012年3月23日  212.02   207.5  212.55   207.5    5.49M   3.25%\n",
       "3  2012年3月26日   215.2  211.12   215.9   211.1    3.77M   1.50%\n",
       "4  2012年3月27日   201.5  210.22  210.99     201    7.91M  -6.37%"
      ]
     },
     "execution_count": 4,
     "metadata": {},
     "output_type": "execute_result"
    }
   ],
   "source": [
    "df_stock.head()"
   ]
  },
  {
   "cell_type": "code",
   "execution_count": 5,
   "metadata": {},
   "outputs": [],
   "source": [
    "def func_map_volume(x):\n",
    "    if 'K' in x:\n",
    "        return float(x.replace('K', '')) * 1e3\n",
    "    else:\n",
    "        return float(x.replace('M', '')) * 1e6\n",
    "\n",
    "df_stock['close'] = df_stock['close'].map(lambda x: float(x.replace(',', '')))\n",
    "df_stock['open'] = df_stock['open'].map(lambda x: float(x.replace(',', '')))\n",
    "df_stock['high'] = df_stock['high'].map(lambda x: float(x.replace(',', '')))\n",
    "df_stock['low'] = df_stock['low'].map(lambda x: float(x.replace(',', '')))\n",
    "df_stock['volume'] = df_stock['volume'].map(func_map_volume)\n",
    "df_stock['change'] = df_stock['change'].map(lambda x: float(x.replace('%', '')) / 100)"
   ]
  },
  {
   "cell_type": "code",
   "execution_count": 6,
   "metadata": {},
   "outputs": [],
   "source": [
    "df_stock.to_csv('./data/600519_clean.csv', index=False)"
   ]
  },
  {
   "cell_type": "code",
   "execution_count": 9,
   "metadata": {},
   "outputs": [
    {
     "name": "stdout",
     "output_type": "stream",
     "text": [
      "<class 'pandas.core.frame.DataFrame'>\n",
      "RangeIndex: 1942 entries, 0 to 1941\n",
      "Data columns (total 7 columns):\n",
      "Date      1942 non-null object\n",
      "Close     1942 non-null float64\n",
      "Open      1942 non-null float64\n",
      "High      1942 non-null float64\n",
      "Low       1942 non-null float64\n",
      "Volume    1942 non-null float64\n",
      "Change    1942 non-null float64\n",
      "dtypes: float64(6), object(1)\n",
      "memory usage: 106.3+ KB\n"
     ]
    },
    {
     "data": {
      "text/plain": [
       "(6,)"
      ]
     },
     "execution_count": 9,
     "metadata": {},
     "output_type": "execute_result"
    }
   ],
   "source": [
    "df = pd.read_csv('./data/600519.csv')\n",
    "df.info()\n",
    "\n",
    "df.loc[0:5, 'Open'].values.shape"
   ]
  }
 ],
 "metadata": {
  "kernelspec": {
   "display_name": "Python 3.6.8 64-bit ('3.6.8': pyenv)",
   "language": "python",
   "name": "python36864bit368pyenvbe0f3fdd6adc4233adb0afedb1c91391"
  },
  "language_info": {
   "codemirror_mode": {
    "name": "ipython",
    "version": 3
   },
   "file_extension": ".py",
   "mimetype": "text/x-python",
   "name": "python",
   "nbconvert_exporter": "python",
   "pygments_lexer": "ipython3",
   "version": "3.6.8"
  }
 },
 "nbformat": 4,
 "nbformat_minor": 4
}
